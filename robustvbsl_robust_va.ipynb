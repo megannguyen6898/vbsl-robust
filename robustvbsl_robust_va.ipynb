{
 "cells": [
  {
   "cell_type": "code",
   "execution_count": 16,
   "metadata": {},
   "outputs": [],
   "source": [
    "import os\n",
    "import matplotlib.pyplot as plt\n",
    "import numpy as np\n",
    "import random\n",
    "import time\n",
    "import math\n",
    "#import numdifftools as nd\n",
    "import pandas as pd\n",
    "#import pymc3 as pm\n",
    "\n",
    "from tqdm import tqdm\n",
    "from sklearn import preprocessing\n",
    "from numpy.linalg import multi_dot\n",
    "import scipy\n",
    "from scipy import stats\n",
    "from scipy.stats import invgamma\n",
    "from scipy.special import gamma\n",
    "from scipy.special import digamma\n",
    "from scipy.stats import multivariate_normal\n",
    "from scipy.stats import norm\n",
    "from scipy.stats import levy_stable\n",
    "from scipy.stats import gaussian_kde"
   ]
  },
  {
   "cell_type": "code",
   "execution_count": 17,
   "metadata": {},
   "outputs": [],
   "source": [
    "from numba import vectorize, float64, guvectorize, jit"
   ]
  },
  {
   "cell_type": "markdown",
   "metadata": {},
   "source": [
    "## LOAD DATASET"
   ]
  },
  {
   "cell_type": "code",
   "execution_count": 18,
   "metadata": {},
   "outputs": [
    {
     "data": {
      "text/plain": [
       "array([[ 2.78587812e+00, -9.38492791e-01, -1.12684067e-01, ...,\n",
       "        -1.86274042e+00, -1.15156838e+00,  3.65195113e-04],\n",
       "       [-3.45078873e+00, -4.07740588e+00, -2.12787368e+00, ...,\n",
       "         1.37419792e+00,  1.54686146e+00,  1.28086861e+00],\n",
       "       [-1.21707325e+00, -5.16429612e-02, -1.27637916e+00, ...,\n",
       "         2.04035067e+00,  1.68718176e-01,  5.61018947e+00],\n",
       "       ...,\n",
       "       [-4.62549299e-01, -1.46897966e+00,  1.53172314e+00, ...,\n",
       "        -1.70410993e+00, -5.11527706e-01, -1.50203750e+00],\n",
       "       [ 5.79688905e-02,  2.06243369e+00, -1.51056619e+00, ...,\n",
       "         3.92813920e-01, -2.19231559e+00,  7.38993492e-01],\n",
       "       [-2.92762325e+00,  2.93761906e+00, -1.17714948e+00, ...,\n",
       "         3.50164499e+00, -9.02022846e-01,  1.12320037e+00]])"
      ]
     },
     "execution_count": 18,
     "metadata": {},
     "output_type": "execute_result"
    }
   ],
   "source": [
    "# GENERATE DATA FROM STABLE DISTRI\n",
    "@jit(nopython=True)\n",
    "def alpha_stable(alpha, beta, gamma, delta, dataset_size, num_datasets):\n",
    "    V = np.pi / 2 * (2 * np.random.rand(num_datasets, dataset_size) - 1)\n",
    "    W = - np.log(np.random.rand(num_datasets, dataset_size))\n",
    "    #r = np.zeros(n)\n",
    "\n",
    "    if alpha != 1:\n",
    "        const = beta * np.tan(np.pi * alpha / 2)\n",
    "        b = math.atan(const)\n",
    "        s = (1 + const * const)**(1 / (2 * alpha))\n",
    "        r = s * np.sin(alpha * V + b) / ((np.cos(V)) ** (1/alpha)) * (( np.cos( (1-alpha) * V - b ) / W )**((1-alpha)/alpha))\n",
    "        r = gamma * r + delta\n",
    "    else:\n",
    "        piover2 = np.pi / 2\n",
    "        sclshftV = piover2 + beta * V\n",
    "        r = 1/piover2 * (sclshftV * np.tan(V) - beta * np.log( (piover2 * W * np.cos(V) ) / sclshftV ))\n",
    "        r = gamma * r + (2 / np.pi) * beta * gamma * np.log(gamma) + delta\n",
    "    return r\n",
    "\n",
    "actual_data = alpha_stable(1.5, 0.5, 1, 0, 200, 10)\n",
    "actual_data"
   ]
  },
  {
   "cell_type": "code",
   "execution_count": 19,
   "metadata": {},
   "outputs": [
    {
     "data": {
      "text/plain": [
       "array([ 1.55720593,  0.63207226,  1.02936271, -0.00750908])"
      ]
     },
     "execution_count": 19,
     "metadata": {},
     "output_type": "execute_result"
    }
   ],
   "source": [
    "# CALCULATE SUMMARY STATS\n",
    "@jit\n",
    "def alpha_stable_ss(data: np.ndarray) -> np.ndarray:\n",
    "  # Compute quantile statistics\n",
    "  v_stability = (np.percentile(data, 95) - np.percentile(data, 5)) / (np.percentile(data, 75) - np.percentile(data, 25))\n",
    "  v_skewness = (np.percentile(data, 95) + np.percentile(data, 5) - 2 * np.percentile(data, 50)) / (np.percentile(data, 95) - np.percentile(data, 5))\n",
    "  v_scale = (np.percentile(data, 75) - np.percentile(data, 25)) / 1\n",
    "  v_loc = np.mean(data)\n",
    "\n",
    "  # Define interpolation matrices (see [1])\n",
    "  tv_stability = np.array([2.439, 2.5, 2.6, 2.7, 2.8, 3.0, 3.2, 3.5, 4.0, 5.0, 6.0, 8.0, 10.0, 15.0, 25.0])\n",
    "  tv_skewness = np.array([0.0, 0.1, 0.2, 0.3, 0.5, 0.7, 1.0])\n",
    "  t_stability = np.array([2.0, 1.9, 1.8, 1.7, 1.6, 1.5, 1.4, 1.3, 1.2, 1.1, 1.0, 0.9, 0.8, 0.7, 0.6, 0.5])\n",
    "  t_skewness = np.array([0.0, 0.25, 0.5, 0.75, 1.0])\n",
    "\n",
    "  psi1 = np.array([[2.000, 2.000, 2.000, 2.000, 2.000, 2.000, 2.000],\n",
    "    [1.916, 1.924, 1.924, 1.924, 1.924, 1.924, 1.924],\n",
    "    [1.808, 1.813, 1.829, 1.829, 1.829, 1.829, 1.829],\n",
    "    [1.729, 1.730, 1.737, 1.745, 1.745, 1.745, 1.745],\n",
    "    [1.664, 1.663, 1.663, 1.668, 1.676, 1.676, 1.676],\n",
    "    [1.563, 1.560, 1.553, 1.548, 1.547, 1.547, 1.547],\n",
    "    [1.484, 1.480, 1.471, 1.460, 1.448, 1.438, 1.438],\n",
    "    [1.391, 1.386, 1.378, 1.364, 1.337, 1.318, 1.318],\n",
    "    [1.279, 1.273, 1.266, 1.250, 1.210, 1.184, 1.150],\n",
    "    [1.128, 1.121, 1.114, 1.101, 1.067, 1.027, 0.973],\n",
    "    [1.029, 1.021, 1.014, 1.004, 0.974, 0.935, 0.874],\n",
    "    [0.896, 0.892, 0.887, 0.883, 0.855, 0.823, 0.769],\n",
    "    [0.818, 0.812, 0.806, 0.801, 0.780, 0.756, 0.691],\n",
    "    [0.698, 0.695, 0.692, 0.689, 0.676, 0.656, 0.595],\n",
    "    [0.593, 0.590, 0.588, 0.586, 0.579, 0.563, 0.513]])\n",
    "\n",
    "  psi2 = np.array([[0.000, 2.160, 1.000, 1.000, 1.000, 1.000, 1.000],\n",
    "    [0.000, 1.592, 3.390, 1.000, 1.000, 1.000, 1.000],\n",
    "    [0.000, 0.759, 1.800, 1.000, 1.000, 1.000, 1.000],\n",
    "    [0.000, 0.482, 1.048, 1.694, 1.000, 1.000, 1.000],\n",
    "    [0.000, 0.360, 0.760, 1.232, 2.229, 1.000, 1.000],\n",
    "    [0.000, 0.253, 0.518, 0.823, 1.575, 1.000, 1.000],\n",
    "    [0.000, 0.203, 0.410, 0.632, 1.244, 1.906, 1.000],\n",
    "    [0.000, 0.165, 0.332, 0.499, 0.943, 1.560, 1.000],\n",
    "    [0.000, 0.136, 0.271, 0.404, 0.689, 1.230, 2.195],\n",
    "    [0.000, 0.109, 0.216, 0.323, 0.539, 0.827, 1.917],\n",
    "    [0.000, 0.096, 0.190, 0.284, 0.472, 0.693, 1.759],\n",
    "    [0.000, 0.082, 0.163, 0.243, 0.412, 0.601, 1.596],\n",
    "    [0.000, 0.074, 0.147, 0.220, 0.377, 0.546, 1.482],\n",
    "    [0.000, 0.064, 0.128, 0.191, 0.330, 0.478, 1.362],\n",
    "    [0.000, 0.056, 0.112, 0.167, 0.285, 0.428, 1.274]])\n",
    "\n",
    "  psi3 = np.array([[1.908, 1.908, 1.908, 1.908, 1.908],\n",
    "    [1.914, 1.915, 1.916, 1.918, 1.921],\n",
    "    [1.921, 1.922, 1.927, 1.936, 1.947],\n",
    "    [1.927, 1.930, 1.943, 1.961, 1.987],\n",
    "    [1.933, 1.940, 1.962, 1.997, 2.043],\n",
    "    [1.939, 1.952, 1.988, 2.045, 2.116],\n",
    "    [1.946, 1.967, 2.022, 2.106, 2.211],\n",
    "    [1.955, 1.984, 2.067, 2.188, 2.333],\n",
    "    [1.965, 2.007, 2.125, 2.294, 2.491],\n",
    "    [1.980, 2.040, 2.205, 2.435, 2.696],\n",
    "    [2.000, 2.085, 2.311, 2.624, 2.973],\n",
    "    [2.040, 2.149, 2.461, 2.886, 3.356],\n",
    "    [2.098, 2.244, 2.676, 3.265, 3.912],\n",
    "    [2.189, 2.392, 3.004, 3.844, 4.775],\n",
    "    [2.337, 2.635, 3.542, 4.808, 6.247],\n",
    "    [2.588, 3.073, 4.534, 6.636, 9.144]])\n",
    "\n",
    "\n",
    "  psi4 = np.array([[0.0,    0.0,    0.0,    0.0,  0.0],  \n",
    "    [0.0, -0.017, -0.032, -0.049, -0.064],\n",
    "    [0.0, -0.030, -0.061, -0.092, -0.123],\n",
    "    [0.0, -0.043, -0.088, -0.132, -0.179],\n",
    "    [0.0, -0.056, -0.111, -0.170, -0.232],\n",
    "    [0.0, -0.066, -0.134, -0.206, -0.283],\n",
    "    [0.0, -0.075, -0.154, -0.241, -0.335],\n",
    "    [0.0, -0.084, -0.173, -0.276, -0.390],\n",
    "    [0.0, -0.090, -0.192, -0.310, -0.447],\n",
    "    [0.0, -0.095, -0.208, -0.346, -0.508],\n",
    "    [0.0, -0.098, -0.223, -0.383, -0.576],\n",
    "    [0.0, -0.099, -0.237, -0.424, -0.652],\n",
    "    [0.0, -0.096, -0.250, -0.469, -0.742],\n",
    "    [0.0, -0.089, -0.262, -0.520, -0.853],\n",
    "    [0.0, -0.078, -0.272, -0.581, -0.997],\n",
    "    [0.0, -0.061, -0.279, -0.659, -1.198]])\n",
    "\n",
    "  tv_stability_i1 = max(np.append(0, np.argwhere(tv_stability <= v_stability)))\n",
    "  tv_stability_i2 = min(np.append(14, np.argwhere(tv_stability >= v_stability)))\n",
    "  tv_skewness_i1 = max(np.append(0, np.argwhere(tv_skewness <= abs(v_skewness))))\n",
    "  tv_skewness_i2 = min(np.append(6, np.argwhere(tv_skewness >= abs(v_skewness))))\n",
    "  dist_stability = tv_stability[tv_stability_i2] - tv_stability[tv_stability_i1]\n",
    "  if dist_stability != 0:\n",
    "    dist_stability = (v_stability - tv_stability[tv_stability_i1]) / dist_stability\n",
    "\n",
    "  dist_skewness = tv_skewness[tv_skewness_i2] - tv_skewness[tv_skewness_i1]\n",
    "  if dist_skewness != 0:\n",
    "    dist_skewness = (abs(v_skewness) - tv_skewness[tv_skewness_i1]) / dist_skewness\n",
    "\n",
    "  psi1b1 = dist_stability*psi1[tv_stability_i2,tv_skewness_i1]+(1-dist_stability)*psi1[tv_stability_i1,tv_skewness_i1]\n",
    "  psi1b2 = dist_stability*psi1[tv_stability_i2,tv_skewness_i2]+(1-dist_stability)*psi1[tv_stability_i1,tv_skewness_i2]\n",
    "  alpha = dist_skewness*psi1b2+(1-dist_skewness)*psi1b1\n",
    "  psi2b1 = dist_stability*psi2[tv_stability_i2,tv_skewness_i1]+(1-dist_stability)*psi2[tv_stability_i1,tv_skewness_i1]\n",
    "  psi2b2 = dist_stability*psi2[tv_stability_i2,tv_skewness_i2]+(1-dist_stability)*psi2[tv_stability_i1,tv_skewness_i2]\n",
    "  beta = np.sign(v_skewness)*(dist_skewness*psi2b2+(1-dist_skewness)*psi2b1)\n",
    "  t_stability_i1 = max(np.append(0, np.argwhere(t_stability >= alpha)))\n",
    "  t_stability_i2 = min(np.append(15, np.argwhere(t_stability <= alpha)))\n",
    "  t_skewness_i1 = max(np.append(0, np.argwhere(t_skewness <= abs(beta))))\n",
    "  t_skewness_i2 = min(np.append(4, np.argwhere(t_skewness >= abs(beta))))\n",
    "\n",
    "  dist_stability = t_stability[t_stability_i2] - t_stability[t_stability_i1]\n",
    "  if dist_stability != 0:\n",
    "    dist_stability = (alpha - t_stability[t_stability_i1]) / dist_stability\n",
    "\n",
    "  dist_skewness = t_skewness[t_skewness_i2] - t_skewness[t_skewness_i1]\n",
    "  if dist_skewness != 0:\n",
    "    dist_skewness = (abs(beta) - t_skewness[t_skewness_i1]) / dist_skewness\n",
    "\n",
    "  psi3b1 = dist_stability*psi3[t_stability_i2,t_skewness_i1]+(1-dist_stability)*psi3[t_stability_i1,t_skewness_i1]\n",
    "  psi3b2 = dist_stability*psi3[t_stability_i2,t_skewness_i2]+(1-dist_stability)*psi3[t_stability_i1,t_skewness_i2]\n",
    "  sigma = v_scale/(dist_skewness*psi3b2+(1-dist_skewness)*psi3b1)\n",
    "  psi4b1 = dist_stability*psi4[t_stability_i2,t_skewness_i1]+(1-dist_stability)*psi4[t_stability_i1,t_skewness_i1]\n",
    "  psi4b2 = dist_stability*psi4[t_stability_i2,t_skewness_i2]+(1-dist_stability)*psi4[t_stability_i1,t_skewness_i2]\n",
    "  zeta = np.sign(beta)*sigma*(dist_skewness*psi4b2+(1-dist_skewness)*psi4b1) + np.percentile(data, 50)\n",
    "\n",
    "  if abs(alpha-1) < 0.05:\n",
    "    mu = zeta\n",
    "  else:\n",
    "    mu = zeta - beta * sigma * math.tan(0.5 * math.pi *alpha)\n",
    "\n",
    "  return np.array([alpha, beta, sigma, mu]) #stability, skewness, scale, loc\n",
    "\n",
    "actual_summary_statistics = alpha_stable_ss(actual_data)\n",
    "actual_summary_statistics"
   ]
  },
  {
   "cell_type": "code",
   "execution_count": 20,
   "metadata": {},
   "outputs": [],
   "source": [
    "@jit\n",
    "def summary_statistics(theta, n_samples, n_datasets):\n",
    "    datasets = alpha_stable(theta[0], theta[1], theta[2], theta[3], n_samples, n_datasets)\n",
    "    n_summary_statistics = np.array([alpha_stable_ss(datasets[i,:]) for i in range(n_datasets)])\n",
    "    sample_mean = np.mean(n_summary_statistics, axis = 0)\n",
    "    sample_variance = np.cov(np.array(n_summary_statistics).T)\n",
    "    return sample_mean, sample_variance"
   ]
  },
  {
   "cell_type": "markdown",
   "metadata": {},
   "source": [
    "## FIND THE BEST THETA (COEFFICIENTS) USING VB"
   ]
  },
  {
   "cell_type": "code",
   "execution_count": 28,
   "metadata": {},
   "outputs": [],
   "source": [
    "class GVB:\n",
    "    def __init__(self, samples, actual_summary_statistics, learning_rate, threshold, l_threshold, adaptive_lr_1, adaptive_lr_2, t_w, Patience):\n",
    "        self.samples = samples\n",
    "        self.actual_summary_statistics = actual_summary_statistics\n",
    "        self.num_datasets = 100 # number of datasets\n",
    "        self.gamma_samples = 20\n",
    "        self.num_coeffs = np.shape(actual_summary_statistics)[0] # number of coeffs\n",
    "        self.num_latent = np.shape(actual_summary_statistics)[0]\n",
    "        self.lambda_dim = (self.num_coeffs) + int(((self.num_coeffs) * ((self.num_coeffs) + 1)) / 2)\n",
    "        self.learning_rate = learning_rate\n",
    "        self.threshold = threshold\n",
    "        self.l_threshold = l_threshold\n",
    "        self.adaptive_lr_1 = adaptive_lr_1\n",
    "        self.adaptive_lr_2 = adaptive_lr_2\n",
    "        self.t_w = t_w\n",
    "        self.Patience = Patience\n",
    "\n",
    "    def mean_adjustment_summary_statistics(self, adjusted_theta):\n",
    "        theta = adjusted_theta[0:self.num_coeffs]\n",
    "        Gamma = adjusted_theta[-self.num_latent:]\n",
    "        sample_mean, sample_variance = summary_statistics(theta, 200, self.num_datasets)\n",
    "        adjusted_sample_mean = sample_mean + np.diag(np.sqrt(sample_variance)) @ Gamma\n",
    "        return adjusted_sample_mean, sample_variance\n",
    "\n",
    "    def variance_adjustment_summary_statistics(self, adjusted_theta):\n",
    "        theta = adjusted_theta[0:self.num_coeffs]\n",
    "        Gamma = adjusted_theta[-self.num_latent:]\n",
    "        sample_mean, sample_variance = summary_statistics(theta, 200, self.num_datasets)\n",
    "        adjusted_sample_variance = sample_variance + np.diag(np.diag(sample_variance) * (Gamma ** 2))\n",
    "        return sample_mean, adjusted_sample_variance\n",
    "\n",
    "    def theta_prior(self, theta): \n",
    "        log_prior = multivariate_normal.logpdf(theta, cov= 100 * np.identity(self.num_coeffs))\n",
    "        \n",
    "        return log_prior\n",
    "\n",
    "    # def Gamma_prior(self, Gamma, scale):\n",
    "    #     log_prior_gamma = []\n",
    "    #     for j in range(len(Gamma)):\n",
    "    #         log_prior_gamma.append(-np.log(2 * scale)-1/scale * np.abs(Gamma[j]))\n",
    "    #     log_prior_Gamma = np.sum(log_prior_gamma)\n",
    "    #     return log_prior_gamma, log_prior_Gamma\n",
    "\n",
    "    # def unbiased_log_likelihood(self, theta):\n",
    "    #     sample_mean = self.summary_statistics(theta)[0]\n",
    "    #     sample_variance = self.summary_statistics(theta)[1]\n",
    "    #     diff_mean_s = self.actual_summary_statistics - sample_mean\n",
    "    #     part1 = diff_mean_s.T @ np.linalg.inv(sample_variance) @ diff_mean_s\n",
    "    #     u_est_log_likelihood = -1/2 * np.log(np.linalg.det(sample_variance)) - (self.num_datasets - self.num_coeffs - 2) / (2 * (self.num_datasets-1)) * part1\n",
    "    #     return u_est_log_likelihood\n",
    "\n",
    "    def mean_adjustment_unbiased_log_likelihood(self, adjusted_theta):\n",
    "        adjusted_sample_mean = self.mean_adjustment_summary_statistics(adjusted_theta)[0]\n",
    "        sample_variance = self.mean_adjustment_summary_statistics(adjusted_theta)[1]\n",
    "        diff_mean_s = self.actual_summary_statistics - adjusted_sample_mean\n",
    "        part1 = diff_mean_s.T @ np.linalg.inv(sample_variance) @ diff_mean_s\n",
    "        ma_u_est_log_likelihood = -1/2 * np.log(np.linalg.det(sample_variance)) - part1\n",
    "        return ma_u_est_log_likelihood\n",
    "    @jit(forceobj=True)\n",
    "    def variance_adjustment_unbiased_log_likelihood(self, adjusted_theta):\n",
    "        sample_mean = self.variance_adjustment_summary_statistics(adjusted_theta)[0]\n",
    "        adjusted_sample_variance = self.variance_adjustment_summary_statistics(adjusted_theta)[1]\n",
    "        diff_mean_s = self.actual_summary_statistics - sample_mean\n",
    "        part1 = diff_mean_s.T @ np.linalg.inv(adjusted_sample_variance) @ diff_mean_s\n",
    "        va_u_est_log_likelihood = -1/2 * np.log(np.linalg.det(adjusted_sample_variance)) - part1\n",
    "        return va_u_est_log_likelihood\n",
    "\n",
    "    def log_q(self, theta, mu, l):\n",
    "        log_q = multivariate_normal.logpdf(theta, mean = mu, cov= np.linalg.inv(l @ l.T))\n",
    "        return log_q\n",
    "\n",
    "    def gradient_log_q(self, theta, mu, l): #indep theta\n",
    "        gradient_log_q_mu = np.matmul(np.matmul(l, l.T), (theta - mu))\n",
    "        gradient_log_q_l = (np.diag(1 / np.diag(l)) - np.matmul(((np.reshape(theta - mu, ((self.num_coeffs),1))) * theta - mu), l)).T[np.triu_indices((self.num_coeffs))] #use * because matmul gives scalar \n",
    "        gradient_log_q = np.array([gradient_log_q_mu, gradient_log_q_l], dtype=object)\n",
    "        return gradient_log_q\n",
    "\n",
    "    def control_variates(self, Flat_grad_log_q, Flat_grad_lb):\n",
    "        c = []\n",
    "        stacked_gradient_lb = np.stack(Flat_grad_lb)\n",
    "        stacked_gradient_log_q = np.stack(Flat_grad_log_q)\n",
    "        for i in range(self.lambda_dim):\n",
    "            sample_cov = np.cov((stacked_gradient_lb[:, i], stacked_gradient_log_q[:, i]))\n",
    "            c_i = sample_cov[0, 1] / sample_cov[1, 1]\n",
    "            c.append(c_i)\n",
    "        c_mu = np.array(c[0:(self.num_coeffs)])\n",
    "        c_vech_l = np.array(c[(self.num_coeffs):])\n",
    "        return np.array([c_mu, c_vech_l], dtype = object)\n",
    "    @jit(forceobj=True)\n",
    "    def vb_posterior(self, stop):\n",
    "        # Initialize mu_0, L_0\n",
    "        #mu_0 = np.array([np.log((self.actual_summary_statistics[0]-1.1)/(2-self.actual_summary_statistics[0])), np.log((1+self.actual_summary_statistics[1])/(1-self.actual_summary_statistics[1])), np.log(self.actual_summary_statistics[2]), self.actual_summary_statistics[3]])\n",
    "        #mu_0 = np.array([1.5, 0.5, 3, 0])\n",
    "        #mu_0 = np.array([self.actual_summary_statistics[0], self.actual_summary_statistics[1], self.actual_summary_statistics[2], self.actual_summary_statistics[3]])\n",
    "        mu_0 = np.array([0] * (self.num_coeffs))\n",
    "        l_0 = np.tril(np.identity((self.num_coeffs)) * 10)\n",
    "        Sigma_0_inv = l_0 @ l_0.T\n",
    "        Sigma_0 = np.linalg.inv(Sigma_0_inv)\n",
    "        l_0_inv = np.linalg.inv(l_0)\n",
    "        ### Change ways to get vech(l0)\n",
    "        vech_l0 = l_0.T[np.triu_indices((self.num_coeffs))]\n",
    "\n",
    "        lambda_0 = np.array([mu_0, vech_l0], dtype = object)\n",
    "        lambda_q = lambda_0\n",
    "        # Initilize best lambda\n",
    "        lambda_best = lambda_0\n",
    "        # List of Lambda\n",
    "        Lambda = [lambda_0]\n",
    "        # List of calculations of LB\n",
    "        LB_all = []\n",
    "        LB_Smoothed = []\n",
    "        patience = 0\n",
    "        # List of flattened gradients\n",
    "        Flattened_gradient_lb = []\n",
    "        Flattened_gradient_log_q = []\n",
    "        for t in tqdm(range(stop)):\n",
    "            if t == 0:        \n",
    "                # Draw samples of theta from  variational q\n",
    "                # List of gradients\n",
    "                Gradient_lb_init = []\n",
    "                lb_0 = []\n",
    "                theta_0_samples = multivariate_normal.rvs(mean = mu_0, cov = Sigma_0, size = self.samples)\n",
    "                for s in range(self.samples):\n",
    "                    # True params have been reparam into epsilon\n",
    "                    # GENERATE THETA\n",
    "                    theta_tilde_0 = theta_0_samples[s]\n",
    "                    alpha_0 = (2 * np.exp(theta_tilde_0[0]) + 1.1) / (1 + np.exp(theta_tilde_0[0]))\n",
    "                    beta_0 = (np.exp(theta_tilde_0[1]) - 1) / (np.exp(theta_tilde_0[1]) + 1)\n",
    "                    gamma_0 = np.exp(theta_tilde_0[2])\n",
    "                    delta_0 = theta_tilde_0[3]\n",
    "                    theta_0 = np.array([alpha_0, beta_0, gamma_0, delta_0])\n",
    "\n",
    "                    va_unbiased_log_likelihood_init = []\n",
    "                    # GENERATE GAMMA\n",
    "                    for g in range(self.gamma_samples):\n",
    "                        Gamma_init = np.random.exponential(scale = 0.5, size = self.num_latent)\n",
    "                        adjusted_theta_0 = np.concatenate((theta_0, Gamma_init))\n",
    "                        va_unbiased_log_likelihood_init.append(self.variance_adjustment_unbiased_log_likelihood(adjusted_theta_0))\n",
    "                    # Find gradient of LB\n",
    "                    h_lambda_init = self.theta_prior(theta_tilde_0) + np.mean(va_unbiased_log_likelihood_init) - self.log_q(theta_tilde_0, mu_0, l_0)\n",
    "                    gradient_lb_init = self.gradient_log_q(theta_tilde_0, mu_0, l_0) * (h_lambda_init)\n",
    "                    Gradient_lb_init.append(gradient_lb_init)\n",
    "                    # Calculate control variates\n",
    "                    flattened_gradient_log_q = np.concatenate((self.gradient_log_q(theta_tilde_0, mu_0, l_0)[0], self.gradient_log_q(theta_tilde_0, mu_0, l_0)[1]), axis = None)\n",
    "                    Flattened_gradient_log_q.append(flattened_gradient_log_q)\n",
    "                    flattened_gradient_lb = np.concatenate((gradient_lb_init[0], gradient_lb_init[1]), axis = None)\n",
    "                    Flattened_gradient_lb.append(flattened_gradient_lb)\n",
    "                    # Calculate lower bound\n",
    "                    lb_0.append(h_lambda_init)\n",
    "                # Calculate control variates using all samples\n",
    "                c = self.control_variates(Flattened_gradient_log_q, Flattened_gradient_lb)\n",
    "                # Update lambda_q\n",
    "                self.g_init = np.mean(Gradient_lb_init, axis = 0)\n",
    "                # Gradient clipping\n",
    "                if np.linalg.norm(np.concatenate(self.g_init, axis = None)) > self.l_threshold:\n",
    "                    self.g_init = self.l_threshold * self.g_init / np.linalg.norm(np.concatenate(self.g_init, axis = None))\n",
    "                self.v_init = self.g_init ** 2\n",
    "                # Calculate lower bound\n",
    "                LB_all.append(np.mean(lb_0))\n",
    "                print('LB', (np.mean(lb_0)))\n",
    "                lambda_q = lambda_0\n",
    "\n",
    "            if t > 0:\n",
    "                # From lambda_q find mu_q and L_q\n",
    "                mu_q = lambda_q[0]\n",
    "\n",
    "                ### Change ways to convert from vech_l0 to l0\n",
    "                vech_lq = list(lambda_q[1])\n",
    "                l_q = np.zeros((self.num_coeffs, self.num_coeffs))\n",
    "                # l_q[:, 0] = lambda_q[1][0:self.num_coeffs]\n",
    "                # l_q[1:self.num_coeffs, 1] = lambda_q[1][4:7]\n",
    "                # l_q[2:self.num_coeffs, 2] = lambda_q[1][7:9]\n",
    "                # l_q[3:self.num_coeffs, 3] = lambda_q[1][9:10]\n",
    "\n",
    "                for i in range(self.num_coeffs):\n",
    "                    l_q[i:self.num_coeffs,i] = vech_lq[:self.num_coeffs - i]\n",
    "                    del vech_lq[:self.num_coeffs-i]\n",
    "                \n",
    "                Sigma_q_inv = l_q @ l_q.T\n",
    "                Sigma_q =  np.linalg.inv(Sigma_q_inv)\n",
    "                l_q_inv =  np.linalg.inv(l_q)\n",
    "                # List of gradients\n",
    "                Gradient_lb = []\n",
    "                lb_t = []\n",
    "                theta_q_samples = multivariate_normal.rvs(mean = mu_q, cov = Sigma_q, size = self.samples)\n",
    "                for s in range(self.samples):\n",
    "                    theta_tilde_q = theta_q_samples[s]\n",
    "                    # Calculate theta from mu, l (lambda)\n",
    "                    alpha_q = (2 * np.exp(theta_tilde_q[0]) + 1.1) / (1 + np.exp(theta_tilde_q[0]))\n",
    "                    beta_q = (np.exp(theta_tilde_q[1]) - 1) / (np.exp(theta_tilde_q[1]) + 1)\n",
    "                    gamma_q = np.exp(theta_tilde_q[2])\n",
    "                    delta_q = theta_tilde_q[3]\n",
    "                    theta_q = np.array([alpha_q, beta_q, gamma_q, delta_q])\n",
    "\n",
    "                    va_unbiased_log_likelihood = []\n",
    "                    # GENERATE GAMMA\n",
    "                    for g in range(self.gamma_samples):\n",
    "                        Gamma = np.random.exponential(scale = 2, size = self.num_latent)\n",
    "                        adjusted_theta_q = np.concatenate((theta_q, Gamma))\n",
    "                        va_unbiased_log_likelihood.append(self.variance_adjustment_unbiased_log_likelihood(adjusted_theta_q))\n",
    "\n",
    "                    # Find gradient of LB\n",
    "                    h_lambda = self.theta_prior(theta_tilde_q) + np.mean(va_unbiased_log_likelihood) - self.log_q(theta_tilde_q, mu_q, l_q)\n",
    "                    # Find gradient of LB\n",
    "                    gradient_lb = self.gradient_log_q(theta_tilde_q, mu_q, l_q) * (h_lambda - c)\n",
    "\n",
    "                    Gradient_lb.append(gradient_lb)\n",
    "                    # Calculate control variates\n",
    "                    Flattened_gradient_log_q[s] = np.concatenate((self.gradient_log_q(theta_tilde_q, mu_q, l_q)[0], self.gradient_log_q(theta_tilde_q, mu_q, l_q)[1]), axis = None)\n",
    "                    Flattened_gradient_lb[s] = np.concatenate((gradient_lb[0], gradient_lb[1]), axis = None)\n",
    "                    # Calc lower bound estimate\n",
    "                    lb_t.append(h_lambda)\n",
    "                # Update control variates\n",
    "                c = self.control_variates(Flattened_gradient_log_q, Flattened_gradient_lb)\n",
    "                # Calc gradient of h\n",
    "                g_t = np.mean(Gradient_lb, axis = 0)\n",
    "                # Gradient clipping\n",
    "                if np.linalg.norm(np.concatenate(g_t, axis = None)) > self.l_threshold:\n",
    "                    g_t = self.l_threshold * g_t / np.linalg.norm(np.concatenate(g_t, axis = None))\n",
    "                v_t = g_t ** 2\n",
    "\n",
    "                #---- Update lambda\n",
    "                self.g_init = self.adaptive_lr_1 * self.g_init + (1 - self.adaptive_lr_1) * g_t\n",
    "                self.v_init = self.adaptive_lr_2 * self.v_init + (1 - self.adaptive_lr_2) * v_t\n",
    "                if t >= self.threshold:\n",
    "                    update_t = self.learning_rate * self.threshold / t\n",
    "                else:\n",
    "                    update_t = self.learning_rate\n",
    "\n",
    "                lambda_q = lambda_q + update_t * self.g_init / (self.v_init ** 0.5)\n",
    "                Lambda.append(lambda_q)\n",
    "                # Calculate lower bound\n",
    "                LB_all.append(np.mean(lb_t))\n",
    "\n",
    "                if t < self.t_w:\n",
    "                    print('LB', np.mean(lb_t))\n",
    "\n",
    "                if t >= self.t_w:\n",
    "                    LB_smoothed = np.mean(LB_all[t - self.t_w + 1 : t])\n",
    "                    print('LB Smoothed', LB_smoothed)\n",
    "                    LB_Smoothed.append(LB_smoothed)\n",
    "                    if LB_smoothed >= max(LB_Smoothed):\n",
    "                        patience = 0\n",
    "                        lambda_best = lambda_q\n",
    "                    else:\n",
    "                        patience += 1\n",
    "                        if patience > self.Patience:\n",
    "                            print(\"Stop at\", t)\n",
    "                            break\n",
    "\n",
    "        return LB_all, LB_Smoothed, lambda_best"
   ]
  },
  {
   "cell_type": "markdown",
   "metadata": {},
   "source": [
    "## RUN VB AND PRINT OUT VARIATIONAL PARAMS"
   ]
  },
  {
   "cell_type": "code",
   "execution_count": 22,
   "metadata": {},
   "outputs": [],
   "source": [
    "# Set hyperparameters\n",
    "stop = 5000"
   ]
  },
  {
   "cell_type": "code",
   "execution_count": 29,
   "metadata": {},
   "outputs": [
    {
     "name": "stderr",
     "output_type": "stream",
     "text": [
      "  0%|          | 1/5000 [02:05<173:44:19, 125.12s/it]"
     ]
    },
    {
     "name": "stdout",
     "output_type": "stream",
     "text": [
      "LB -14.42159318281068\n"
     ]
    },
    {
     "name": "stderr",
     "output_type": "stream",
     "text": [
      "  0%|          | 2/5000 [04:11<174:42:11, 125.84s/it]"
     ]
    },
    {
     "name": "stdout",
     "output_type": "stream",
     "text": [
      "LB -14.404737076851834\n"
     ]
    },
    {
     "name": "stderr",
     "output_type": "stream",
     "text": [
      "  0%|          | 3/5000 [06:17<174:33:29, 125.76s/it]"
     ]
    },
    {
     "name": "stdout",
     "output_type": "stream",
     "text": [
      "LB -14.279888491055312\n"
     ]
    },
    {
     "name": "stderr",
     "output_type": "stream",
     "text": [
      "  0%|          | 4/5000 [08:23<174:59:31, 126.10s/it]"
     ]
    },
    {
     "name": "stdout",
     "output_type": "stream",
     "text": [
      "LB -14.53494460820322\n"
     ]
    },
    {
     "name": "stderr",
     "output_type": "stream",
     "text": [
      "  0%|          | 5/5000 [10:26<173:25:43, 124.99s/it]"
     ]
    },
    {
     "name": "stdout",
     "output_type": "stream",
     "text": [
      "LB -14.399305135457043\n"
     ]
    },
    {
     "name": "stderr",
     "output_type": "stream",
     "text": [
      "  0%|          | 6/5000 [12:15<165:41:49, 119.45s/it]"
     ]
    },
    {
     "name": "stdout",
     "output_type": "stream",
     "text": [
      "LB -14.454167676026731\n"
     ]
    },
    {
     "name": "stderr",
     "output_type": "stream",
     "text": [
      "  0%|          | 7/5000 [13:59<158:45:46, 114.47s/it]"
     ]
    },
    {
     "name": "stdout",
     "output_type": "stream",
     "text": [
      "LB -14.38231744390206\n"
     ]
    },
    {
     "name": "stderr",
     "output_type": "stream",
     "text": [
      "  0%|          | 8/5000 [15:45<154:45:46, 111.61s/it]"
     ]
    },
    {
     "name": "stdout",
     "output_type": "stream",
     "text": [
      "LB -14.406212154923018\n"
     ]
    },
    {
     "name": "stderr",
     "output_type": "stream",
     "text": [
      "  0%|          | 9/5000 [17:29<151:34:18, 109.33s/it]"
     ]
    },
    {
     "name": "stdout",
     "output_type": "stream",
     "text": [
      "LB -14.291076169964448\n"
     ]
    },
    {
     "name": "stderr",
     "output_type": "stream",
     "text": [
      "  0%|          | 10/5000 [19:13<149:11:55, 107.64s/it]"
     ]
    },
    {
     "name": "stdout",
     "output_type": "stream",
     "text": [
      "LB -14.28144893594871\n"
     ]
    },
    {
     "name": "stderr",
     "output_type": "stream",
     "text": [
      "  0%|          | 11/5000 [20:58<147:59:36, 106.79s/it]"
     ]
    },
    {
     "name": "stdout",
     "output_type": "stream",
     "text": [
      "LB -14.343677545759611\n"
     ]
    },
    {
     "name": "stderr",
     "output_type": "stream",
     "text": [
      "  0%|          | 12/5000 [22:45<148:07:59, 106.91s/it]"
     ]
    },
    {
     "name": "stdout",
     "output_type": "stream",
     "text": [
      "LB -14.388961474882679\n"
     ]
    },
    {
     "name": "stderr",
     "output_type": "stream",
     "text": [
      "  0%|          | 13/5000 [24:29<146:49:07, 105.99s/it]"
     ]
    },
    {
     "name": "stdout",
     "output_type": "stream",
     "text": [
      "LB -14.565246897000975\n"
     ]
    },
    {
     "name": "stderr",
     "output_type": "stream",
     "text": [
      "  0%|          | 14/5000 [26:13<146:05:05, 105.48s/it]"
     ]
    },
    {
     "name": "stdout",
     "output_type": "stream",
     "text": [
      "LB -14.320445011132742\n"
     ]
    },
    {
     "name": "stderr",
     "output_type": "stream",
     "text": [
      "  0%|          | 15/5000 [27:58<145:38:45, 105.18s/it]"
     ]
    },
    {
     "name": "stdout",
     "output_type": "stream",
     "text": [
      "LB -14.246067680030594\n"
     ]
    },
    {
     "name": "stderr",
     "output_type": "stream",
     "text": [
      "  0%|          | 16/5000 [29:42<145:12:40, 104.89s/it]"
     ]
    },
    {
     "name": "stdout",
     "output_type": "stream",
     "text": [
      "LB -14.263510339081\n"
     ]
    },
    {
     "name": "stderr",
     "output_type": "stream",
     "text": [
      "  0%|          | 17/5000 [31:25<144:41:42, 104.54s/it]"
     ]
    },
    {
     "name": "stdout",
     "output_type": "stream",
     "text": [
      "LB -14.46354976275939\n"
     ]
    },
    {
     "name": "stderr",
     "output_type": "stream",
     "text": [
      "  0%|          | 18/5000 [33:09<144:16:28, 104.25s/it]"
     ]
    },
    {
     "name": "stdout",
     "output_type": "stream",
     "text": [
      "LB -14.278168565308597\n"
     ]
    },
    {
     "name": "stderr",
     "output_type": "stream",
     "text": [
      "  0%|          | 19/5000 [34:53<144:07:05, 104.16s/it]"
     ]
    },
    {
     "name": "stdout",
     "output_type": "stream",
     "text": [
      "LB -14.415358311353602\n"
     ]
    },
    {
     "name": "stderr",
     "output_type": "stream",
     "text": [
      "  0%|          | 20/5000 [36:36<143:42:36, 103.89s/it]"
     ]
    },
    {
     "name": "stdout",
     "output_type": "stream",
     "text": [
      "LB -14.102179487035826\n"
     ]
    },
    {
     "name": "stderr",
     "output_type": "stream",
     "text": [
      "  0%|          | 21/5000 [38:20<143:39:25, 103.87s/it]"
     ]
    },
    {
     "name": "stdout",
     "output_type": "stream",
     "text": [
      "LB -14.461378360708792\n"
     ]
    },
    {
     "name": "stderr",
     "output_type": "stream",
     "text": [
      "  0%|          | 22/5000 [40:05<143:52:24, 104.05s/it]"
     ]
    },
    {
     "name": "stdout",
     "output_type": "stream",
     "text": [
      "LB -14.315127223736756\n"
     ]
    },
    {
     "name": "stderr",
     "output_type": "stream",
     "text": [
      "  0%|          | 23/5000 [41:48<143:38:52, 103.90s/it]"
     ]
    },
    {
     "name": "stdout",
     "output_type": "stream",
     "text": [
      "LB -14.08828211744294\n"
     ]
    },
    {
     "name": "stderr",
     "output_type": "stream",
     "text": [
      "  0%|          | 24/5000 [43:32<143:46:52, 104.02s/it]"
     ]
    },
    {
     "name": "stdout",
     "output_type": "stream",
     "text": [
      "LB -14.383328455761887\n"
     ]
    },
    {
     "name": "stderr",
     "output_type": "stream",
     "text": [
      "  0%|          | 25/5000 [45:17<143:58:24, 104.18s/it]"
     ]
    },
    {
     "name": "stdout",
     "output_type": "stream",
     "text": [
      "LB -14.311995093056288\n"
     ]
    },
    {
     "name": "stderr",
     "output_type": "stream",
     "text": [
      "  1%|          | 26/5000 [47:01<143:43:12, 104.02s/it]"
     ]
    },
    {
     "name": "stdout",
     "output_type": "stream",
     "text": [
      "LB -14.380745221212324\n"
     ]
    },
    {
     "name": "stderr",
     "output_type": "stream",
     "text": [
      "  1%|          | 27/5000 [1:17:21<855:14:24, 619.12s/it]"
     ]
    },
    {
     "name": "stdout",
     "output_type": "stream",
     "text": [
      "LB -14.297933969976317\n"
     ]
    },
    {
     "name": "stderr",
     "output_type": "stream",
     "text": [
      "  1%|          | 28/5000 [1:20:10<668:27:13, 484.00s/it]"
     ]
    },
    {
     "name": "stdout",
     "output_type": "stream",
     "text": [
      "LB -14.240368648311687\n"
     ]
    },
    {
     "name": "stderr",
     "output_type": "stream",
     "text": [
      "  1%|          | 29/5000 [1:22:37<528:36:02, 382.81s/it]"
     ]
    },
    {
     "name": "stdout",
     "output_type": "stream",
     "text": [
      "LB -14.123592935920342\n"
     ]
    },
    {
     "name": "stderr",
     "output_type": "stream",
     "text": [
      "  1%|          | 30/5000 [1:25:17<436:04:05, 315.86s/it]"
     ]
    },
    {
     "name": "stdout",
     "output_type": "stream",
     "text": [
      "LB -14.490809035587597\n"
     ]
    },
    {
     "name": "stderr",
     "output_type": "stream",
     "text": [
      "  1%|          | 31/5000 [1:27:35<362:40:49, 262.76s/it]"
     ]
    },
    {
     "name": "stdout",
     "output_type": "stream",
     "text": [
      "LB -14.53102080466032\n"
     ]
    },
    {
     "name": "stderr",
     "output_type": "stream",
     "text": [
      "  1%|          | 32/5000 [1:29:54<311:05:16, 225.43s/it]"
     ]
    },
    {
     "name": "stdout",
     "output_type": "stream",
     "text": [
      "LB -14.297416792237302\n"
     ]
    },
    {
     "name": "stderr",
     "output_type": "stream",
     "text": [
      "  1%|          | 33/5000 [1:32:13<275:26:06, 199.63s/it]"
     ]
    },
    {
     "name": "stdout",
     "output_type": "stream",
     "text": [
      "LB -14.34921270940285\n"
     ]
    },
    {
     "name": "stderr",
     "output_type": "stream",
     "text": [
      "  1%|          | 34/5000 [1:34:29<248:48:54, 180.37s/it]"
     ]
    },
    {
     "name": "stdout",
     "output_type": "stream",
     "text": [
      "LB -14.044903894384511\n"
     ]
    },
    {
     "name": "stderr",
     "output_type": "stream",
     "text": [
      "  1%|          | 35/5000 [1:36:52<233:23:38, 169.23s/it]"
     ]
    },
    {
     "name": "stdout",
     "output_type": "stream",
     "text": [
      "LB -14.36025240372716\n"
     ]
    },
    {
     "name": "stderr",
     "output_type": "stream",
     "text": [
      "  1%|          | 36/5000 [1:39:10<220:26:09, 159.86s/it]"
     ]
    },
    {
     "name": "stdout",
     "output_type": "stream",
     "text": [
      "LB -14.303132903977662\n"
     ]
    },
    {
     "name": "stderr",
     "output_type": "stream",
     "text": [
      "  1%|          | 37/5000 [1:41:29<211:43:48, 153.58s/it]"
     ]
    },
    {
     "name": "stdout",
     "output_type": "stream",
     "text": [
      "LB -14.365480407788207\n"
     ]
    },
    {
     "name": "stderr",
     "output_type": "stream",
     "text": [
      "  1%|          | 38/5000 [1:44:05<212:35:56, 154.24s/it]"
     ]
    },
    {
     "name": "stdout",
     "output_type": "stream",
     "text": [
      "LB -14.189773681200759\n"
     ]
    },
    {
     "name": "stderr",
     "output_type": "stream",
     "text": [
      "  1%|          | 39/5000 [1:46:06<198:58:18, 144.39s/it]"
     ]
    },
    {
     "name": "stdout",
     "output_type": "stream",
     "text": [
      "LB -14.39403697481118\n"
     ]
    },
    {
     "name": "stderr",
     "output_type": "stream",
     "text": [
      "  1%|          | 40/5000 [1:47:53<183:18:13, 133.04s/it]"
     ]
    },
    {
     "name": "stdout",
     "output_type": "stream",
     "text": [
      "LB -14.139352607407313\n"
     ]
    },
    {
     "name": "stderr",
     "output_type": "stream",
     "text": [
      "  1%|          | 41/5000 [1:49:38<171:57:32, 124.83s/it]"
     ]
    },
    {
     "name": "stdout",
     "output_type": "stream",
     "text": [
      "LB -14.239489595801802\n"
     ]
    },
    {
     "name": "stderr",
     "output_type": "stream",
     "text": [
      "  1%|          | 42/5000 [1:51:26<164:57:02, 119.77s/it]"
     ]
    },
    {
     "name": "stdout",
     "output_type": "stream",
     "text": [
      "LB -14.259096335470918\n"
     ]
    },
    {
     "name": "stderr",
     "output_type": "stream",
     "text": [
      "  1%|          | 43/5000 [1:53:11<158:47:10, 115.32s/it]"
     ]
    },
    {
     "name": "stdout",
     "output_type": "stream",
     "text": [
      "LB -14.223577347252695\n"
     ]
    },
    {
     "name": "stderr",
     "output_type": "stream",
     "text": [
      "  1%|          | 44/5000 [4:55:21<4625:17:47, 3359.78s/it]"
     ]
    },
    {
     "name": "stdout",
     "output_type": "stream",
     "text": [
      "LB -14.208623822567484\n"
     ]
    },
    {
     "name": "stderr",
     "output_type": "stream",
     "text": [
      "  1%|          | 45/5000 [17:38:37<22146:59:25, 16090.65s/it]"
     ]
    },
    {
     "name": "stdout",
     "output_type": "stream",
     "text": [
      "LB -14.317559553813602\n"
     ]
    },
    {
     "name": "stderr",
     "output_type": "stream",
     "text": [
      "  1%|          | 46/5000 [17:46:24<15692:23:04, 11403.43s/it]"
     ]
    },
    {
     "name": "stdout",
     "output_type": "stream",
     "text": [
      "LB -14.172920991732017\n"
     ]
    },
    {
     "name": "stderr",
     "output_type": "stream",
     "text": [
      "  1%|          | 47/5000 [17:48:21<11030:53:10, 8017.60s/it] "
     ]
    },
    {
     "name": "stdout",
     "output_type": "stream",
     "text": [
      "LB -14.32654505708383\n"
     ]
    },
    {
     "name": "stderr",
     "output_type": "stream",
     "text": [
      "  1%|          | 48/5000 [17:50:26<7771:27:08, 5649.68s/it] "
     ]
    },
    {
     "name": "stdout",
     "output_type": "stream",
     "text": [
      "LB -14.325725835434882\n"
     ]
    },
    {
     "name": "stderr",
     "output_type": "stream",
     "text": [
      "  1%|          | 49/5000 [17:52:17<5484:52:19, 3988.19s/it]"
     ]
    },
    {
     "name": "stdout",
     "output_type": "stream",
     "text": [
      "LB -14.182526727135894\n"
     ]
    },
    {
     "name": "stderr",
     "output_type": "stream",
     "text": [
      "  1%|          | 50/5000 [17:54:27<3892:22:54, 2830.82s/it]"
     ]
    },
    {
     "name": "stdout",
     "output_type": "stream",
     "text": [
      "LB -14.16339829394538\n"
     ]
    },
    {
     "name": "stderr",
     "output_type": "stream",
     "text": [
      "  1%|          | 51/5000 [17:56:34<2776:28:00, 2019.66s/it]"
     ]
    },
    {
     "name": "stdout",
     "output_type": "stream",
     "text": [
      "LB Smoothed -14.31242592996384\n"
     ]
    },
    {
     "name": "stderr",
     "output_type": "stream",
     "text": [
      "  1%|          | 52/5000 [17:58:20<1986:50:01, 1445.55s/it]"
     ]
    },
    {
     "name": "stdout",
     "output_type": "stream",
     "text": [
      "LB Smoothed -14.30979210039973\n"
     ]
    },
    {
     "name": "stderr",
     "output_type": "stream",
     "text": [
      "  1%|          | 53/5000 [18:00:03<1432:38:23, 1042.55s/it]"
     ]
    },
    {
     "name": "stdout",
     "output_type": "stream",
     "text": [
      "LB Smoothed -14.309546680767932\n"
     ]
    },
    {
     "name": "stderr",
     "output_type": "stream",
     "text": [
      "  1%|          | 54/5000 [18:02:17<1058:05:45, 770.15s/it] "
     ]
    },
    {
     "name": "stdout",
     "output_type": "stream",
     "text": [
      "LB Smoothed -14.303543112469896\n"
     ]
    },
    {
     "name": "stderr",
     "output_type": "stream",
     "text": [
      "  1%|          | 55/5000 [18:04:27<794:03:25, 578.08s/it] "
     ]
    },
    {
     "name": "stdout",
     "output_type": "stream",
     "text": [
      "LB Smoothed -14.301147190850953\n"
     ]
    },
    {
     "name": "stderr",
     "output_type": "stream",
     "text": [
      "  1%|          | 56/5000 [18:06:47<613:12:58, 446.52s/it]"
     ]
    },
    {
     "name": "stdout",
     "output_type": "stream",
     "text": [
      "LB Smoothed -14.297593552675485\n"
     ]
    },
    {
     "name": "stderr",
     "output_type": "stream",
     "text": [
      "  1%|          | 57/5000 [18:08:58<483:09:58, 351.89s/it]"
     ]
    },
    {
     "name": "stdout",
     "output_type": "stream",
     "text": [
      "LB Smoothed -14.293385684618025\n"
     ]
    },
    {
     "name": "stderr",
     "output_type": "stream",
     "text": [
      "  1%|          | 58/5000 [18:11:10<392:38:34, 286.02s/it]"
     ]
    },
    {
     "name": "stdout",
     "output_type": "stream",
     "text": [
      "LB Smoothed -14.288465337607763\n"
     ]
    },
    {
     "name": "stderr",
     "output_type": "stream",
     "text": [
      "  1%|          | 59/5000 [18:13:22<329:03:17, 239.75s/it]"
     ]
    },
    {
     "name": "stdout",
     "output_type": "stream",
     "text": [
      "LB Smoothed -14.286767083297756\n"
     ]
    },
    {
     "name": "stderr",
     "output_type": "stream",
     "text": [
      "  1%|          | 60/5000 [18:15:26<281:27:22, 205.11s/it]"
     ]
    },
    {
     "name": "stdout",
     "output_type": "stream",
     "text": [
      "LB Smoothed -14.286528618255193\n"
     ]
    },
    {
     "name": "stderr",
     "output_type": "stream",
     "text": [
      "  1%|          | 61/5000 [18:17:30<247:55:29, 180.71s/it]"
     ]
    },
    {
     "name": "stdout",
     "output_type": "stream",
     "text": [
      "LB Smoothed -14.284282698858041\n"
     ]
    },
    {
     "name": "stderr",
     "output_type": "stream",
     "text": [
      "  1%|          | 62/5000 [18:19:58<234:18:20, 170.82s/it]"
     ]
    },
    {
     "name": "stdout",
     "output_type": "stream",
     "text": [
      "LB Smoothed -14.28137686132688\n"
     ]
    },
    {
     "name": "stderr",
     "output_type": "stream",
     "text": [
      "  1%|▏         | 63/5000 [18:21:48<209:29:16, 152.76s/it]"
     ]
    },
    {
     "name": "stdout",
     "output_type": "stream",
     "text": [
      "LB Smoothed -14.277276201205291\n"
     ]
    },
    {
     "name": "stderr",
     "output_type": "stream",
     "text": [
      "  1%|▏         | 64/5000 [18:23:40<192:43:01, 140.56s/it]"
     ]
    },
    {
     "name": "stdout",
     "output_type": "stream",
     "text": [
      "LB Smoothed -14.276628958526729\n"
     ]
    },
    {
     "name": "stderr",
     "output_type": "stream",
     "text": [
      "  1%|▏         | 65/5000 [18:25:27<178:52:50, 130.49s/it]"
     ]
    },
    {
     "name": "stdout",
     "output_type": "stream",
     "text": [
      "LB Smoothed -14.2778115992628\n"
     ]
    },
    {
     "name": "stderr",
     "output_type": "stream",
     "text": [
      "  1%|▏         | 66/5000 [18:27:18<170:32:10, 124.43s/it]"
     ]
    },
    {
     "name": "stdout",
     "output_type": "stream",
     "text": [
      "LB Smoothed -14.277648272616911\n"
     ]
    },
    {
     "name": "stderr",
     "output_type": "stream",
     "text": [
      "  1%|▏         | 67/5000 [18:29:35<175:53:20, 128.36s/it]"
     ]
    },
    {
     "name": "stdout",
     "output_type": "stream",
     "text": [
      "LB Smoothed -14.272735406203909\n"
     ]
    },
    {
     "name": "stderr",
     "output_type": "stream",
     "text": [
      "  1%|▏         | 68/5000 [18:31:33<171:20:59, 125.07s/it]"
     ]
    },
    {
     "name": "stdout",
     "output_type": "stream",
     "text": [
      "LB Smoothed -14.268608115217077\n"
     ]
    },
    {
     "name": "stderr",
     "output_type": "stream",
     "text": [
      "  1%|▏         | 69/5000 [18:33:28<167:28:33, 122.27s/it]"
     ]
    },
    {
     "name": "stdout",
     "output_type": "stream",
     "text": [
      "LB Smoothed -14.26514163915739\n"
     ]
    },
    {
     "name": "stderr",
     "output_type": "stream",
     "text": [
      "  1%|▏         | 70/5000 [18:35:52<176:09:22, 128.63s/it]"
     ]
    },
    {
     "name": "stdout",
     "output_type": "stream",
     "text": [
      "LB Smoothed -14.267106244829513\n"
     ]
    },
    {
     "name": "stderr",
     "output_type": "stream",
     "text": [
      "  1%|▏         | 71/5000 [18:38:38<191:36:03, 139.94s/it]"
     ]
    },
    {
     "name": "stdout",
     "output_type": "stream",
     "text": [
      "LB Smoothed -14.26117631568155\n"
     ]
    },
    {
     "name": "stderr",
     "output_type": "stream",
     "text": [
      "  1%|▏         | 72/5000 [18:41:18<199:47:08, 145.95s/it]"
     ]
    },
    {
     "name": "stdout",
     "output_type": "stream",
     "text": [
      "LB Smoothed -14.261621845129136\n"
     ]
    },
    {
     "name": "stderr",
     "output_type": "stream",
     "text": [
      "  1%|▏         | 73/5000 [18:43:38<197:13:32, 144.11s/it]"
     ]
    },
    {
     "name": "stdout",
     "output_type": "stream",
     "text": [
      "LB Smoothed -14.263851859825945\n"
     ]
    },
    {
     "name": "stderr",
     "output_type": "stream",
     "text": [
      "  1%|▏         | 74/5000 [18:46:01<196:47:29, 143.82s/it]"
     ]
    },
    {
     "name": "stdout",
     "output_type": "stream",
     "text": [
      "LB Smoothed -14.262318270950443\n"
     ]
    },
    {
     "name": "stderr",
     "output_type": "stream",
     "text": [
      "  2%|▏         | 75/5000 [18:48:25<196:42:44, 143.79s/it]"
     ]
    },
    {
     "name": "stdout",
     "output_type": "stream",
     "text": [
      "LB Smoothed -14.263039547834445\n"
     ]
    },
    {
     "name": "stderr",
     "output_type": "stream",
     "text": [
      "  2%|▏         | 76/5000 [18:50:42<193:53:25, 141.76s/it]"
     ]
    },
    {
     "name": "stdout",
     "output_type": "stream",
     "text": [
      "LB Smoothed -14.262854011016504\n"
     ]
    },
    {
     "name": "stderr",
     "output_type": "stream",
     "text": [
      "  2%|▏         | 77/5000 [18:53:03<193:45:39, 141.69s/it]"
     ]
    },
    {
     "name": "stdout",
     "output_type": "stream",
     "text": [
      "LB Smoothed -14.26273144627675\n"
     ]
    },
    {
     "name": "stderr",
     "output_type": "stream",
     "text": [
      "  2%|▏         | 78/5000 [18:55:21<192:13:55, 140.60s/it]"
     ]
    },
    {
     "name": "stdout",
     "output_type": "stream",
     "text": [
      "LB Smoothed -14.262670190332864\n"
     ]
    },
    {
     "name": "stderr",
     "output_type": "stream",
     "text": [
      "  2%|▏         | 79/5000 [18:57:38<190:36:23, 139.44s/it]"
     ]
    },
    {
     "name": "stdout",
     "output_type": "stream",
     "text": [
      "LB Smoothed -14.263093161920672\n"
     ]
    },
    {
     "name": "stderr",
     "output_type": "stream",
     "text": [
      "  2%|▏         | 80/5000 [18:59:59<191:13:18, 139.92s/it]"
     ]
    },
    {
     "name": "stdout",
     "output_type": "stream",
     "text": [
      "LB Smoothed -14.25914421784537\n"
     ]
    },
    {
     "name": "stderr",
     "output_type": "stream",
     "text": [
      "  2%|▏         | 81/5000 [19:02:22<192:35:12, 140.95s/it]"
     ]
    },
    {
     "name": "stdout",
     "output_type": "stream",
     "text": [
      "LB Smoothed -14.254354119685303\n"
     ]
    },
    {
     "name": "stderr",
     "output_type": "stream",
     "text": [
      "  2%|▏         | 82/5000 [19:04:45<193:04:14, 141.33s/it]"
     ]
    },
    {
     "name": "stdout",
     "output_type": "stream",
     "text": [
      "LB Smoothed -14.253900213231148\n"
     ]
    },
    {
     "name": "stderr",
     "output_type": "stream",
     "text": [
      "  2%|▏         | 83/5000 [19:07:05<192:29:53, 140.94s/it]"
     ]
    },
    {
     "name": "stdout",
     "output_type": "stream",
     "text": [
      "LB Smoothed -14.248341340419822\n"
     ]
    },
    {
     "name": "stderr",
     "output_type": "stream",
     "text": [
      "  2%|▏         | 84/5000 [19:09:22<191:07:00, 139.96s/it]"
     ]
    },
    {
     "name": "stdout",
     "output_type": "stream",
     "text": [
      "LB Smoothed -14.252965966642984\n"
     ]
    },
    {
     "name": "stderr",
     "output_type": "stream",
     "text": [
      "  2%|▏         | 85/5000 [19:11:45<192:04:34, 140.69s/it]"
     ]
    },
    {
     "name": "stdout",
     "output_type": "stream",
     "text": [
      "LB Smoothed -14.251625888300417\n"
     ]
    },
    {
     "name": "stderr",
     "output_type": "stream",
     "text": [
      "  2%|▏         | 86/5000 [19:14:06<192:21:13, 140.92s/it]"
     ]
    },
    {
     "name": "stdout",
     "output_type": "stream",
     "text": [
      "LB Smoothed -14.251284664473559\n"
     ]
    },
    {
     "name": "stderr",
     "output_type": "stream",
     "text": [
      "  2%|▏         | 87/5000 [19:16:24<191:11:39, 140.10s/it]"
     ]
    },
    {
     "name": "stdout",
     "output_type": "stream",
     "text": [
      "LB Smoothed -14.249856841343908\n"
     ]
    },
    {
     "name": "stderr",
     "output_type": "stream",
     "text": [
      "  2%|▏         | 88/5000 [19:18:42<190:20:23, 139.50s/it]"
     ]
    },
    {
     "name": "stdout",
     "output_type": "stream",
     "text": [
      "LB Smoothed -14.250266375260018\n"
     ]
    },
    {
     "name": "stderr",
     "output_type": "stream",
     "text": [
      "  2%|▏         | 89/5000 [19:20:49<185:10:13, 135.74s/it]"
     ]
    },
    {
     "name": "stdout",
     "output_type": "stream",
     "text": [
      "LB Smoothed -14.246494113342093\n"
     ]
    },
    {
     "name": "stderr",
     "output_type": "stream",
     "text": [
      "  2%|▏         | 90/5000 [19:23:07<186:02:15, 136.40s/it]"
     ]
    },
    {
     "name": "stdout",
     "output_type": "stream",
     "text": [
      "LB Smoothed -14.24676154012613\n"
     ]
    },
    {
     "name": "stderr",
     "output_type": "stream",
     "text": [
      "  2%|▏         | 91/5000 [19:25:30<188:36:11, 138.31s/it]"
     ]
    },
    {
     "name": "stdout",
     "output_type": "stream",
     "text": [
      "LB Smoothed -14.247498363723919\n"
     ]
    },
    {
     "name": "stderr",
     "output_type": "stream",
     "text": [
      "  2%|▏         | 92/5000 [19:27:45<187:17:56, 137.38s/it]"
     ]
    },
    {
     "name": "stdout",
     "output_type": "stream",
     "text": [
      "LB Smoothed -14.248524884823134\n"
     ]
    },
    {
     "name": "stderr",
     "output_type": "stream",
     "text": [
      "  2%|▏         | 93/5000 [19:30:02<186:58:33, 137.17s/it]"
     ]
    },
    {
     "name": "stdout",
     "output_type": "stream",
     "text": [
      "LB Smoothed -14.25128241452091\n"
     ]
    },
    {
     "name": "stderr",
     "output_type": "stream",
     "text": [
      "  2%|▏         | 94/5000 [19:32:24<188:46:41, 138.52s/it]"
     ]
    },
    {
     "name": "stdout",
     "output_type": "stream",
     "text": [
      "LB Smoothed -14.252527186901073\n"
     ]
    },
    {
     "name": "stderr",
     "output_type": "stream",
     "text": [
      "  2%|▏         | 95/5000 [19:34:38<186:48:25, 137.11s/it]"
     ]
    },
    {
     "name": "stdout",
     "output_type": "stream",
     "text": [
      "LB Smoothed -14.251142140301575\n"
     ]
    },
    {
     "name": "stderr",
     "output_type": "stream",
     "text": [
      "  2%|▏         | 96/5000 [19:36:57<187:36:19, 137.72s/it]"
     ]
    },
    {
     "name": "stdout",
     "output_type": "stream",
     "text": [
      "LB Smoothed -14.251145377724045\n"
     ]
    },
    {
     "name": "stderr",
     "output_type": "stream",
     "text": [
      "  2%|▏         | 97/5000 [19:39:14<187:15:31, 137.49s/it]"
     ]
    },
    {
     "name": "stdout",
     "output_type": "stream",
     "text": [
      "LB Smoothed -14.248724389961174\n"
     ]
    },
    {
     "name": "stderr",
     "output_type": "stream",
     "text": [
      "  2%|▏         | 98/5000 [19:41:36<189:04:53, 138.86s/it]"
     ]
    },
    {
     "name": "stdout",
     "output_type": "stream",
     "text": [
      "LB Smoothed -14.248640681190372\n"
     ]
    },
    {
     "name": "stderr",
     "output_type": "stream",
     "text": [
      "  2%|▏         | 99/5000 [19:43:55<189:04:46, 138.89s/it]"
     ]
    },
    {
     "name": "stdout",
     "output_type": "stream",
     "text": [
      "LB Smoothed -14.251387345939214\n"
     ]
    },
    {
     "name": "stderr",
     "output_type": "stream",
     "text": [
      "  2%|▏         | 100/5000 [19:46:17<190:15:33, 139.78s/it]"
     ]
    },
    {
     "name": "stdout",
     "output_type": "stream",
     "text": [
      "LB Smoothed -14.251076186656995\n"
     ]
    },
    {
     "name": "stderr",
     "output_type": "stream",
     "text": [
      "  2%|▏         | 101/5000 [19:48:43<192:57:14, 141.79s/it]"
     ]
    },
    {
     "name": "stdout",
     "output_type": "stream",
     "text": [
      "LB Smoothed -14.251153395724465\n"
     ]
    },
    {
     "name": "stderr",
     "output_type": "stream",
     "text": [
      "  2%|▏         | 102/5000 [19:50:59<190:21:31, 139.91s/it]"
     ]
    },
    {
     "name": "stdout",
     "output_type": "stream",
     "text": [
      "LB Smoothed -14.253441200611721\n"
     ]
    },
    {
     "name": "stderr",
     "output_type": "stream",
     "text": [
      "  2%|▏         | 103/5000 [19:53:21<191:30:12, 140.78s/it]"
     ]
    },
    {
     "name": "stdout",
     "output_type": "stream",
     "text": [
      "LB Smoothed -14.25730210707919\n"
     ]
    },
    {
     "name": "stderr",
     "output_type": "stream",
     "text": [
      "  2%|▏         | 104/5000 [19:55:42<191:33:31, 140.85s/it]"
     ]
    },
    {
     "name": "stdout",
     "output_type": "stream",
     "text": [
      "LB Smoothed -14.254625574048033\n"
     ]
    },
    {
     "name": "stderr",
     "output_type": "stream",
     "text": [
      "  2%|▏         | 105/5000 [19:58:03<191:34:43, 140.90s/it]"
     ]
    },
    {
     "name": "stdout",
     "output_type": "stream",
     "text": [
      "LB Smoothed -14.257292566562022\n"
     ]
    },
    {
     "name": "stderr",
     "output_type": "stream",
     "text": [
      "  2%|▏         | 106/5000 [20:00:24<191:24:23, 140.80s/it]"
     ]
    },
    {
     "name": "stdout",
     "output_type": "stream",
     "text": [
      "LB Smoothed -14.25567152900582\n"
     ]
    },
    {
     "name": "stderr",
     "output_type": "stream",
     "text": [
      "  2%|▏         | 107/5000 [20:02:44<190:57:31, 140.50s/it]"
     ]
    },
    {
     "name": "stdout",
     "output_type": "stream",
     "text": [
      "LB Smoothed -14.255096974598418\n"
     ]
    },
    {
     "name": "stderr",
     "output_type": "stream",
     "text": [
      "  2%|▏         | 108/5000 [20:05:07<192:08:32, 141.40s/it]"
     ]
    },
    {
     "name": "stdout",
     "output_type": "stream",
     "text": [
      "LB Smoothed -14.256625709381158\n"
     ]
    },
    {
     "name": "stderr",
     "output_type": "stream",
     "text": [
      "  2%|▏         | 109/5000 [20:07:26<190:55:53, 140.53s/it]"
     ]
    },
    {
     "name": "stdout",
     "output_type": "stream",
     "text": [
      "LB Smoothed -14.257033728768585\n"
     ]
    },
    {
     "name": "stderr",
     "output_type": "stream",
     "text": [
      "  2%|▏         | 110/5000 [20:09:45<190:25:23, 140.19s/it]"
     ]
    },
    {
     "name": "stdout",
     "output_type": "stream",
     "text": [
      "LB Smoothed -14.258957435251272\n"
     ]
    },
    {
     "name": "stderr",
     "output_type": "stream",
     "text": [
      "  2%|▏         | 111/5000 [20:12:07<191:04:00, 140.69s/it]"
     ]
    },
    {
     "name": "stdout",
     "output_type": "stream",
     "text": [
      "LB Smoothed -14.25839459075849\n"
     ]
    },
    {
     "name": "stderr",
     "output_type": "stream",
     "text": [
      "  2%|▏         | 112/5000 [20:14:22<188:51:26, 139.09s/it]"
     ]
    },
    {
     "name": "stdout",
     "output_type": "stream",
     "text": [
      "LB Smoothed -14.255794580991308\n"
     ]
    },
    {
     "name": "stderr",
     "output_type": "stream",
     "text": [
      "  2%|▏         | 113/5000 [20:16:35<186:15:04, 137.20s/it]"
     ]
    },
    {
     "name": "stdout",
     "output_type": "stream",
     "text": [
      "LB Smoothed -14.254939014718243\n"
     ]
    },
    {
     "name": "stderr",
     "output_type": "stream",
     "text": [
      "  2%|▏         | 114/5000 [20:18:56<187:40:30, 138.28s/it]"
     ]
    },
    {
     "name": "stdout",
     "output_type": "stream",
     "text": [
      "LB Smoothed -14.252344634408615\n"
     ]
    },
    {
     "name": "stderr",
     "output_type": "stream",
     "text": [
      "  2%|▏         | 115/5000 [20:21:13<187:11:26, 137.95s/it]"
     ]
    },
    {
     "name": "stdout",
     "output_type": "stream",
     "text": [
      "LB Smoothed -14.252891855108288\n"
     ]
    },
    {
     "name": "stderr",
     "output_type": "stream",
     "text": [
      "  2%|▏         | 116/5000 [20:23:36<189:20:46, 139.57s/it]"
     ]
    },
    {
     "name": "stdout",
     "output_type": "stream",
     "text": [
      "LB Smoothed -14.253519151928046\n"
     ]
    },
    {
     "name": "stderr",
     "output_type": "stream",
     "text": [
      "  2%|▏         | 117/5000 [20:25:56<189:16:21, 139.54s/it]"
     ]
    },
    {
     "name": "stdout",
     "output_type": "stream",
     "text": [
      "LB Smoothed -14.255593326708118\n"
     ]
    },
    {
     "name": "stderr",
     "output_type": "stream",
     "text": [
      "  2%|▏         | 118/5000 [20:28:09<186:43:26, 137.69s/it]"
     ]
    },
    {
     "name": "stdout",
     "output_type": "stream",
     "text": [
      "LB Smoothed -14.255315035395535\n"
     ]
    },
    {
     "name": "stderr",
     "output_type": "stream",
     "text": [
      "  2%|▏         | 119/5000 [20:30:20<184:00:45, 135.72s/it]"
     ]
    },
    {
     "name": "stdout",
     "output_type": "stream",
     "text": [
      "LB Smoothed -14.255167415541639\n"
     ]
    },
    {
     "name": "stderr",
     "output_type": "stream",
     "text": [
      "  2%|▏         | 120/5000 [20:32:22<178:07:45, 131.41s/it]"
     ]
    },
    {
     "name": "stdout",
     "output_type": "stream",
     "text": [
      "LB Smoothed -14.25521307266097\n"
     ]
    },
    {
     "name": "stderr",
     "output_type": "stream",
     "text": [
      "  2%|▏         | 121/5000 [20:34:03<166:00:51, 122.49s/it]"
     ]
    },
    {
     "name": "stdout",
     "output_type": "stream",
     "text": [
      "LB Smoothed -14.251922346777514\n"
     ]
    },
    {
     "name": "stderr",
     "output_type": "stream",
     "text": [
      "  2%|▏         | 122/5000 [20:35:46<158:00:21, 116.61s/it]"
     ]
    },
    {
     "name": "stdout",
     "output_type": "stream",
     "text": [
      "LB Smoothed -14.250970382171825\n"
     ]
    },
    {
     "name": "stderr",
     "output_type": "stream",
     "text": [
      "  2%|▏         | 123/5000 [20:37:29<152:19:34, 112.44s/it]"
     ]
    },
    {
     "name": "stdout",
     "output_type": "stream",
     "text": [
      "LB Smoothed -14.25000051387811\n"
     ]
    },
    {
     "name": "stderr",
     "output_type": "stream",
     "text": [
      "  2%|▏         | 124/5000 [20:39:25<153:37:34, 113.42s/it]"
     ]
    },
    {
     "name": "stdout",
     "output_type": "stream",
     "text": [
      "LB Smoothed -14.245963022710125\n"
     ]
    }
   ],
   "source": [
    "vb = GVB(200, actual_summary_statistics, 0.001, 2500, 100, 0.9, 0.9, 50, 50)\n",
    "LB_estimate, smoothed_LB_estimate, best_lambda = vb.vb_posterior(stop)"
   ]
  },
  {
   "cell_type": "code",
   "execution_count": null,
   "metadata": {},
   "outputs": [
    {
     "data": {
      "text/plain": [
       "[-13.209308106448676,\n",
       " -13.132142801096943,\n",
       " -13.005171729833814,\n",
       " -13.353824397980583,\n",
       " -13.106565167029618,\n",
       " -13.011316123671795,\n",
       " -13.245626249846204,\n",
       " -13.20431757195898,\n",
       " -13.071035638418053,\n",
       " -13.233389261549751,\n",
       " -13.230183422117022,\n",
       " -13.169034112078334,\n",
       " -13.173542219348038,\n",
       " -13.1130043422446,\n",
       " -13.217061632358707,\n",
       " -13.278536802790946,\n",
       " -13.174623736280891,\n",
       " -13.13855686525512,\n",
       " -13.192971805127508,\n",
       " -13.191259091444199,\n",
       " -13.18745128534324,\n",
       " -13.151354012723662,\n",
       " -13.106758047872745,\n",
       " -13.018370272973826,\n",
       " -13.256695280982571,\n",
       " -13.069476077888988,\n",
       " -13.085498709235726,\n",
       " -13.071262241002339,\n",
       " -13.27913539435304,\n",
       " -12.994820351699396,\n",
       " -13.323071740114155,\n",
       " -13.209420024024773,\n",
       " -13.013733339436103,\n",
       " -13.201223229358153,\n",
       " -12.930327309256263,\n",
       " -13.068916317871459,\n",
       " -13.21012568226587,\n",
       " -13.162460187796487,\n",
       " -13.19096542604986,\n",
       " -13.070672298870461,\n",
       " -13.195700457605902,\n",
       " -13.231008920495793,\n",
       " -13.20095980104336,\n",
       " -13.15188489016506,\n",
       " -13.205611971454847,\n",
       " -13.260693696862777,\n",
       " -13.159954237687135,\n",
       " -13.305632402583633,\n",
       " -13.134150082950068,\n",
       " -13.392690196111936,\n",
       " -13.361979461151117,\n",
       " -13.119714007010147,\n",
       " -13.142218116771712,\n",
       " -13.015381108516959,\n",
       " -13.161543998570956,\n",
       " -13.214539811727082,\n",
       " -13.177456110142908,\n",
       " -13.185447744965781,\n",
       " -13.231198069512288,\n",
       " -13.109294121435768,\n",
       " -13.198822407373346,\n",
       " -13.17064381172983,\n",
       " -13.17149781982205,\n",
       " -13.049364013316158,\n",
       " -13.187142161258016,\n",
       " -13.172095620147518,\n",
       " -13.247777438567736,\n",
       " -13.020015164327354,\n",
       " -13.261955018604926,\n",
       " -13.149235389196788,\n",
       " -13.120910427618727,\n",
       " -12.986545004688294,\n",
       " -13.026230321481883,\n",
       " -13.175867035095825,\n",
       " -13.04329453914623,\n",
       " -13.08765402543248,\n",
       " -13.199877466517574,\n",
       " -13.254002044980561,\n",
       " -13.019043502791574,\n",
       " -13.12179536517182,\n",
       " -13.395225993844429,\n",
       " -13.061298305947048,\n",
       " -13.111058903725052,\n",
       " -13.123671151073358,\n",
       " -13.147893392996895,\n",
       " -13.132635761980687,\n",
       " -13.256087268077174,\n",
       " -13.193513441974568,\n",
       " -13.16279716414866,\n",
       " -13.07236492172628,\n",
       " -13.071021727709976,\n",
       " -13.089857758493864,\n",
       " -13.120696367518704,\n",
       " -13.10982914799883,\n",
       " -13.13770728748208,\n",
       " -13.07701592186456,\n",
       " -13.290678939845584,\n",
       " -13.075789336032981,\n",
       " -13.15566598201741,\n",
       " -13.314834644333068,\n",
       " -13.186090510186514,\n",
       " -13.09698776076472,\n",
       " -13.217719595033062,\n",
       " -13.32496311160024,\n",
       " -13.224615618474779,\n",
       " -13.299193677835943,\n",
       " -13.201113683859093,\n",
       " -13.133819185429852,\n",
       " -13.10081029880387,\n",
       " -13.106983728601781,\n",
       " -13.23618263279965,\n",
       " -13.031542402839731,\n",
       " -13.215549467561795,\n",
       " -12.996908996190571,\n",
       " -13.228993664674986,\n",
       " -13.224968066673132,\n",
       " -13.147725519666663,\n",
       " -12.918270511881618,\n",
       " -13.085371031142236,\n",
       " -12.927276578600113,\n",
       " -13.108069616738323,\n",
       " -13.08860288421082,\n",
       " -13.201583651112387,\n",
       " -13.048025835456949,\n",
       " -13.149294549011547,\n",
       " -13.066250339589587,\n",
       " -13.135113097887157,\n",
       " -13.104682685738227,\n",
       " -13.099994514112831,\n",
       " -13.091873064394225,\n",
       " -13.31610356777223,\n",
       " -13.241173985297301,\n",
       " -13.268656433464692,\n",
       " -13.3264706892759,\n",
       " -13.171618563809881,\n",
       " -13.153547146734725,\n",
       " -13.204868406741996,\n",
       " -13.041776043752131,\n",
       " -13.028311763658863,\n",
       " -13.2489003868363,\n",
       " -13.167025166110921,\n",
       " -13.075228453679875,\n",
       " -13.147548920335598,\n",
       " -13.111895930284286,\n",
       " -13.156973380242768,\n",
       " -13.177819738660773,\n",
       " -13.168191982242435,\n",
       " -13.247800870926119,\n",
       " -13.243548371505744,\n",
       " -13.151699898303331,\n",
       " -13.238850927107274,\n",
       " -13.002267119937391,\n",
       " -13.061451076447952,\n",
       " -13.179859394671562,\n",
       " -13.156892514081903,\n",
       " -13.153974656161326,\n",
       " -13.242153444240753,\n",
       " -13.216998583825518,\n",
       " -13.101556950149886,\n",
       " -13.2885324924408,\n",
       " -13.169523827661832,\n",
       " -13.270626827041507,\n",
       " -13.222358546745532,\n",
       " -13.274707300863893,\n",
       " -13.02124132262813,\n",
       " -13.118526302475216,\n",
       " -13.196533609489434,\n",
       " -13.055902668929873,\n",
       " -13.23380985782916,\n",
       " -13.25235237403554,\n",
       " -12.988816855157204,\n",
       " -13.054518126279326,\n",
       " -13.164882616640398,\n",
       " -13.122402937682237,\n",
       " -13.14259655113991,\n",
       " -13.271759390565844,\n",
       " -13.074268048728008,\n",
       " -13.09853815586957,\n",
       " -13.01911838655976,\n",
       " -13.197502967943846,\n",
       " -13.27133347742713,\n",
       " -13.295924695528566]"
      ]
     },
     "execution_count": 12,
     "metadata": {},
     "output_type": "execute_result"
    }
   ],
   "source": [
    "LB_estimate"
   ]
  },
  {
   "cell_type": "code",
   "execution_count": null,
   "metadata": {},
   "outputs": [
    {
     "data": {
      "text/plain": [
       "array([array([-0.03161641, -0.00227614,  0.01484003, -0.01211022]),\n",
       "       array([10.05559585,  0.07769827,  0.06787348,  0.0538018 , 10.04502279,\n",
       "               0.07540016,  0.09293601,  9.93471132, -0.03717638,  9.97925579])],\n",
       "      dtype=object)"
      ]
     },
     "execution_count": 13,
     "metadata": {},
     "output_type": "execute_result"
    }
   ],
   "source": [
    "best_lambda"
   ]
  },
  {
   "cell_type": "markdown",
   "metadata": {},
   "source": [
    "## PLOT DENSITY PLOT OF ALL COEFFS\n"
   ]
  },
  {
   "cell_type": "code",
   "execution_count": null,
   "metadata": {},
   "outputs": [
    {
     "data": {
      "text/plain": [
       "<AxesSubplot:title={'center':'Lower Bound Estimate'}>"
      ]
     },
     "execution_count": 14,
     "metadata": {},
     "output_type": "execute_result"
    },
    {
     "data": {
      "text/plain": [
       "<Figure size 432x288 with 0 Axes>"
      ]
     },
     "metadata": {},
     "output_type": "display_data"
    },
    {
     "data": {
      "image/png": "[encoded data removed]",
      "text/plain": [
       "<Figure size 432x288 with 1 Axes>"
      ]
     },
     "metadata": {
      "needs_background": "light"
     },
     "output_type": "display_data"
    }
   ],
   "source": [
    "lb_df = pd.DataFrame(np.array(LB_estimate))\n",
    "plt.figure()\n",
    "lb_df.plot(title = 'Lower Bound Estimate', legend = False)"
   ]
  },
  {
   "cell_type": "code",
   "execution_count": null,
   "metadata": {},
   "outputs": [
    {
     "data": {
      "text/plain": [
       "<AxesSubplot:title={'center':'Smoothed Lower Bound Estimate'}>"
      ]
     },
     "execution_count": 15,
     "metadata": {},
     "output_type": "execute_result"
    },
    {
     "data": {
      "text/plain": [
       "<Figure size 432x288 with 0 Axes>"
      ]
     },
     "metadata": {},
     "output_type": "display_data"
    },
    {
     "data": {
      "image/png": "[encoded data removed]",
      "text/plain": [
       "<Figure size 432x288 with 1 Axes>"
      ]
     },
     "metadata": {
      "needs_background": "light"
     },
     "output_type": "display_data"
    }
   ],
   "source": [
    "lb_df = pd.DataFrame(np.array(smoothed_LB_estimate))\n",
    "plt.figure()\n",
    "lb_df.plot(title = 'Smoothed Lower Bound Estimate', legend = False)"
   ]
  },
  {
   "cell_type": "code",
   "execution_count": null,
   "metadata": {},
   "outputs": [
    {
     "data": {
      "text/plain": [
       "array([ 1.51972423,  0.04640442,  1.14521122, -0.13415417])"
      ]
     },
     "execution_count": 13,
     "metadata": {},
     "output_type": "execute_result"
    }
   ],
   "source": [
    "best_mu = best_lambda[0]\n",
    "\n",
    "best_l = np.zeros((4, 4))\n",
    "best_l[:, 0] = best_lambda[1][0:4]\n",
    "best_l[1:4, 1] = best_lambda[1][4:7]\n",
    "best_l[2:4, 2] = best_lambda[1][7:9]\n",
    "best_l[3:4, 3] = best_lambda[1][9:10]\n",
    "best_Sigma_inv = best_l @ best_l.T\n",
    "best_Sigma =  np.linalg.inv(best_Sigma_inv)\n",
    "\n",
    "best_theta_tilde = multivariate_normal.rvs(mean = best_mu, cov = best_Sigma, size = 1000)\n",
    "best_alpha = (2 * np.exp(best_theta_tilde[:,0]) + 1.1) / (1 + np.exp(best_theta_tilde[:,0]))\n",
    "best_beta = (np.exp(best_theta_tilde[:,1]) - 1) / (np.exp(best_theta_tilde[:,1]) + 1)\n",
    "best_gamma = np.exp(best_theta_tilde[:,2])\n",
    "best_delta = best_theta_tilde[:,3]\n",
    "best_theta = np.array([best_alpha, best_beta, best_gamma, best_delta])\n",
    "posterior_mean_estimate = np.mean(best_theta, axis = 1)\n",
    "posterior_mean_estimate"
   ]
  },
  {
   "cell_type": "code",
   "execution_count": null,
   "metadata": {},
   "outputs": [
    {
     "data": {
      "text/plain": [
       "Text(0.5, 1.0, 'Posterior density of alpha')"
      ]
     },
     "execution_count": 14,
     "metadata": {},
     "output_type": "execute_result"
    },
    {
     "data": {
      "image/png": "[encoded data removed]",
      "text/plain": [
       "<Figure size 432x288 with 1 Axes>"
      ]
     },
     "metadata": {
      "needs_background": "light"
     },
     "output_type": "display_data"
    }
   ],
   "source": [
    "plt.figure()\n",
    "x_plot = np.arange((np.mean(best_alpha)-4*np.std(best_alpha)), (np.mean(best_alpha)+4*np.std(best_alpha)), 0.001)\n",
    "kde = gaussian_kde(best_alpha)\n",
    "y_plot = kde(x_plot)\n",
    "plt.plot(x_plot, y_plot, '-', linewidth=2.0)\n",
    "plt.xlabel(r'$\\alpha$')\n",
    "plt.title('Posterior density of alpha')"
   ]
  },
  {
   "cell_type": "code",
   "execution_count": null,
   "metadata": {},
   "outputs": [
    {
     "data": {
      "text/plain": [
       "Text(0.5, 1.0, 'Posterior density of beta')"
      ]
     },
     "execution_count": 15,
     "metadata": {},
     "output_type": "execute_result"
    },
    {
     "data": {
      "image/png": "[encoded data removed]",
      "text/plain": [
       "<Figure size 432x288 with 1 Axes>"
      ]
     },
     "metadata": {
      "needs_background": "light"
     },
     "output_type": "display_data"
    }
   ],
   "source": [
    "plt.figure()\n",
    "x_plot = np.arange((np.mean(best_beta)-4*np.std(best_beta)), (np.mean(best_beta)+4*np.std(best_beta)), 0.001)\n",
    "kde = gaussian_kde(best_beta)\n",
    "y_plot = kde(x_plot)\n",
    "plt.plot(x_plot, y_plot, '-', linewidth=2.0)\n",
    "plt.xlabel(r'$\\beta$')\n",
    "plt.title('Posterior density of beta')"
   ]
  },
  {
   "cell_type": "code",
   "execution_count": null,
   "metadata": {},
   "outputs": [
    {
     "data": {
      "text/plain": [
       "Text(0.5, 1.0, 'Posterior density of gamma')"
      ]
     },
     "execution_count": 16,
     "metadata": {},
     "output_type": "execute_result"
    },
    {
     "data": {
      "image/png": "[encoded data removed]",
      "text/plain": [
       "<Figure size 432x288 with 1 Axes>"
      ]
     },
     "metadata": {
      "needs_background": "light"
     },
     "output_type": "display_data"
    }
   ],
   "source": [
    "plt.figure()\n",
    "x_plot = np.arange((np.mean(best_gamma)-4*np.std(best_gamma)), (np.mean(best_gamma)+4*np.std(best_gamma)), 0.001)\n",
    "kde = gaussian_kde(best_gamma)\n",
    "y_plot = kde(x_plot)\n",
    "plt.plot(x_plot, y_plot, '-', linewidth=2.0)\n",
    "plt.xlabel(r'$\\gamma$')\n",
    "plt.title('Posterior density of gamma')"
   ]
  },
  {
   "cell_type": "code",
   "execution_count": null,
   "metadata": {},
   "outputs": [
    {
     "data": {
      "text/plain": [
       "Text(0.5, 1.0, 'Posterior density of delta')"
      ]
     },
     "execution_count": 17,
     "metadata": {},
     "output_type": "execute_result"
    },
    {
     "data": {
      "image/png": "[encoded data removed]",
      "text/plain": [
       "<Figure size 432x288 with 1 Axes>"
      ]
     },
     "metadata": {
      "needs_background": "light"
     },
     "output_type": "display_data"
    }
   ],
   "source": [
    "plt.figure()\n",
    "x_plot = np.arange((np.mean(best_delta)-4*np.std(best_delta)), (np.mean(best_delta)+4*np.std(best_delta)), 0.001)\n",
    "kde = gaussian_kde(best_delta)\n",
    "y_plot = kde(x_plot)\n",
    "plt.plot(x_plot, y_plot, '-', linewidth=2.0)\n",
    "plt.xlabel(r'$\\delta$')\n",
    "plt.title('Posterior density of delta')"
   ]
  }
 ],
 "metadata": {
  "kernelspec": {
   "display_name": "Python 3.7.11",
   "language": "python",
   "name": "python3"
  },
  "language_info": {
   "codemirror_mode": {
    "name": "ipython",
    "version": 3
   },
   "file_extension": ".py",
   "mimetype": "text/x-python",
   "name": "python",
   "nbconvert_exporter": "python",
   "pygments_lexer": "ipython3",
   "version": "3.7.11"
  },
  "orig_nbformat": 4,
  "vscode": {
   "interpreter": {
    "hash": "d1ea43ab9d17bb559e5232cc1d7d24428339cdd8b586c17a20f76ba563abd60e"
   }
  }
 },
 "nbformat": 4,
 "nbformat_minor": 2
}
